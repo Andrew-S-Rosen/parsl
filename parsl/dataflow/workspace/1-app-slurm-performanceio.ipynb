{
 "cells": [
  {
   "cell_type": "code",
   "execution_count": 1,
   "metadata": {},
   "outputs": [],
   "source": [
    "%matplotlib inline\n",
    "import os\n",
    "import sys\n",
    "import numpy as np\n",
    "import matplotlib.pyplot as plt"
   ]
  },
  {
   "cell_type": "code",
   "execution_count": 2,
   "metadata": {},
   "outputs": [],
   "source": [
    "import glob"
   ]
  },
  {
   "cell_type": "code",
   "execution_count": 72,
   "metadata": {},
   "outputs": [],
   "source": [
    "from sklearn.metrics.pairwise import cosine_similarity"
   ]
  },
  {
   "cell_type": "code",
   "execution_count": 3,
   "metadata": {},
   "outputs": [],
   "source": [
    "def load_npy(filename):\n",
    "    return np.load(filename)"
   ]
  },
  {
   "cell_type": "markdown",
   "metadata": {},
   "source": [
    "### Plotting"
   ]
  },
  {
   "cell_type": "code",
   "execution_count": 4,
   "metadata": {},
   "outputs": [],
   "source": [
    "def _common_output(filename='output'):\n",
    "    array = load_npy(filename)\n",
    "    output_mem = array[:,0]\n",
    "    output_cpu = array[:,1]\n",
    "    output_time = array[:,2]\n",
    "    _mems = []\n",
    "    _cpus = []\n",
    "    _times = []\n",
    "    for i, j, k in zip( output_mem, output_cpu, output_time):\n",
    "        _mems.extend(i)\n",
    "        _cpus.extend(j)\n",
    "        _times.extend(k)\n",
    "    return _mems, _cpus, _times"
   ]
  },
  {
   "cell_type": "markdown",
   "metadata": {},
   "source": [
    "### Data directory"
   ]
  },
  {
   "cell_type": "code",
   "execution_count": 5,
   "metadata": {},
   "outputs": [],
   "source": [
    "workdir='/home/tkurihana/scratch-midway2/parsl/parsl/dataflow/workspace/workjob'"
   ]
  },
  {
   "cell_type": "markdown",
   "metadata": {},
   "source": [
    "### Files"
   ]
  },
  {
   "cell_type": "code",
   "execution_count": 133,
   "metadata": {},
   "outputs": [],
   "source": [
    "app_type='app2'\n",
    "exp_type='simple'  # simple/total/grd "
   ]
  },
  {
   "cell_type": "code",
   "execution_count": 134,
   "metadata": {},
   "outputs": [],
   "source": [
    "output1_list = glob.glob(workdir+'/'+app_type+'_'+exp_type+'/outputs_app2-1_slurm-*') "
   ]
  },
  {
   "cell_type": "code",
   "execution_count": 135,
   "metadata": {},
   "outputs": [],
   "source": [
    "output2_list = glob.glob(workdir+'/'+app_type+'_'+exp_type+'/outputs_app2-2_slurm-*')"
   ]
  },
  {
   "cell_type": "code",
   "execution_count": 136,
   "metadata": {},
   "outputs": [],
   "source": [
    "output3_list = glob.glob(workdir+'/'+app_type+'_'+exp_type+'/outputs_app2-3_slurm-*') "
   ]
  },
  {
   "cell_type": "code",
   "execution_count": 137,
   "metadata": {},
   "outputs": [],
   "source": [
    "output4_list = glob.glob(workdir+'/'+app_type+'_'+exp_type+'/outputs_app2-4_slurm-*') "
   ]
  },
  {
   "cell_type": "markdown",
   "metadata": {},
   "source": [
    "### Outputs : Histogram"
   ]
  },
  {
   "cell_type": "code",
   "execution_count": 138,
   "metadata": {},
   "outputs": [],
   "source": [
    "mems, cpus, times = [], [], []\n",
    "for _filelist in [output1_list, output2_list, output3_list, output4_list]:\n",
    "    for ifile in _filelist:\n",
    "        _mem, _cpu, _time = _common_output(filename=ifile)\n",
    "        mems.extend(_mem)\n",
    "        cpus.extend(_cpu)\n",
    "        times.extend(_time)"
   ]
  },
  {
   "cell_type": "code",
   "execution_count": 139,
   "metadata": {},
   "outputs": [
    {
     "data": {
      "text/plain": [
       "(60863,)"
      ]
     },
     "execution_count": 139,
     "metadata": {},
     "output_type": "execute_result"
    }
   ],
   "source": [
    "# checkio for outputs\n",
    "np.asarray(mems).shape"
   ]
  },
  {
   "cell_type": "code",
   "execution_count": 79,
   "metadata": {},
   "outputs": [],
   "source": [
    "def _get_weight(data):\n",
    "    return np.ones(len(data))/float(len(data))"
   ]
  },
  {
   "cell_type": "code",
   "execution_count": 80,
   "metadata": {},
   "outputs": [],
   "source": [
    "oname = 'util_'+app_type+exp_type"
   ]
  },
  {
   "cell_type": "markdown",
   "metadata": {},
   "source": [
    "### save stats data to file"
   ]
  },
  {
   "cell_type": "code",
   "execution_count": 90,
   "metadata": {},
   "outputs": [],
   "source": [
    "with open(oname+'_stats.txt', 'w') as ofile:\n",
    "    for cdata, ilabel in zip( [mems, cpus] , ['mem', 'cpu'] ):\n",
    "        mean = np.mean(cdata)\n",
    "        std = np.std(cdata)\n",
    "        ofile.write(ilabel+\"mean:\"+str(mean)+'\\n')\n",
    "        ofile.write(ilabel+\"std :\"+str(std) +'\\n')"
   ]
  },
  {
   "cell_type": "markdown",
   "metadata": {},
   "source": [
    "### plot mean and std info by bar graph"
   ]
  },
  {
   "cell_type": "markdown",
   "metadata": {},
   "source": [
    "#### App 1"
   ]
  },
  {
   "cell_type": "code",
   "execution_count": 91,
   "metadata": {},
   "outputs": [],
   "source": [
    "app1_simple_mean_mem =  np.mean(mems)\n",
    "app1_simple_stdv_mem =  np.std(mems)\n",
    "app1_simple_mean_cpu =  np.mean(cpus)\n",
    "app1_simple_stdv_cpu =  np.std(cpus)"
   ]
  },
  {
   "cell_type": "code",
   "execution_count": 101,
   "metadata": {},
   "outputs": [],
   "source": [
    "app1_total_mean_mem =  np.mean(mems)\n",
    "app1_total_stdv_mem =  np.std(mems)\n",
    "app1_total_mean_cpu =  np.mean(cpus)\n",
    "app1_total_stdv_cpu =  np.std(cpus)"
   ]
  },
  {
   "cell_type": "code",
   "execution_count": 109,
   "metadata": {},
   "outputs": [],
   "source": [
    "app1_grd_mean_mem =  np.mean(mems)\n",
    "app1_grd_stdv_mem =  np.std(mems)\n",
    "app1_grd_mean_cpu =  np.mean(cpus)\n",
    "app1_grd_stdv_cpu =  np.std(cpus)"
   ]
  },
  {
   "cell_type": "markdown",
   "metadata": {},
   "source": [
    "#### App 2"
   ]
  },
  {
   "cell_type": "code",
   "execution_count": 140,
   "metadata": {},
   "outputs": [],
   "source": [
    "app2_simple_mean_mem =  np.mean(mems)\n",
    "app2_simple_stdv_mem =  np.std(mems)\n",
    "app2_simple_mean_cpu =  np.mean(cpus)\n",
    "app2_simple_stdv_cpu =  np.std(cpus)"
   ]
  },
  {
   "cell_type": "code",
   "execution_count": 125,
   "metadata": {},
   "outputs": [],
   "source": [
    "app2_total_mean_mem =  np.mean(mems)\n",
    "app2_total_stdv_mem =  np.std(mems)\n",
    "app2_total_mean_cpu =  np.mean(cpus)\n",
    "app2_total_stdv_cpu =  np.std(cpus)"
   ]
  },
  {
   "cell_type": "code",
   "execution_count": 117,
   "metadata": {},
   "outputs": [],
   "source": [
    "app2_grd_mean_mem =  np.mean(mems)\n",
    "app2_grd_stdv_mem =  np.std(mems)\n",
    "app2_grd_mean_cpu =  np.mean(cpus)\n",
    "app2_grd_stdv_cpu =  np.std(cpus)"
   ]
  },
  {
   "cell_type": "markdown",
   "metadata": {},
   "source": [
    "#### Plot app 1"
   ]
  },
  {
   "cell_type": "code",
   "execution_count": 141,
   "metadata": {},
   "outputs": [],
   "source": [
    "mcpu_data =  [app1_simple_mean_cpu, app1_total_mean_cpu, app1_grd_mean_cpu]"
   ]
  },
  {
   "cell_type": "code",
   "execution_count": 142,
   "metadata": {},
   "outputs": [],
   "source": [
    "scpu_data =  [app1_simple_stdv_cpu, app1_total_stdv_cpu, app1_grd_stdv_cpu]"
   ]
  },
  {
   "cell_type": "code",
   "execution_count": 143,
   "metadata": {},
   "outputs": [],
   "source": [
    "mmem_data =  [app1_simple_mean_mem, app1_total_mean_mem, app1_grd_mean_mem]"
   ]
  },
  {
   "cell_type": "code",
   "execution_count": 144,
   "metadata": {},
   "outputs": [],
   "source": [
    "smem_data = [app1_simple_stdv_mem, app1_total_stdv_mem, app1_grd_stdv_mem]"
   ]
  },
  {
   "cell_type": "markdown",
   "metadata": {},
   "source": [
    "#### Plot app2"
   ]
  },
  {
   "cell_type": "code",
   "execution_count": 186,
   "metadata": {},
   "outputs": [],
   "source": [
    "mcpu_data =  [app2_simple_mean_cpu, app2_total_mean_cpu, app2_grd_mean_cpu]"
   ]
  },
  {
   "cell_type": "code",
   "execution_count": 187,
   "metadata": {},
   "outputs": [],
   "source": [
    "scpu_data =  [app2_simple_stdv_cpu, app2_total_stdv_cpu, app2_grd_stdv_cpu]"
   ]
  },
  {
   "cell_type": "code",
   "execution_count": 188,
   "metadata": {},
   "outputs": [],
   "source": [
    "mmem_data =  [app2_simple_mean_mem, app2_total_mean_mem, app2_grd_mean_mem]"
   ]
  },
  {
   "cell_type": "code",
   "execution_count": 189,
   "metadata": {},
   "outputs": [],
   "source": [
    "smem_data = [app2_simple_stdv_mem, app2_total_stdv_mem, app2_grd_stdv_mem]"
   ]
  },
  {
   "cell_type": "code",
   "execution_count": 192,
   "metadata": {},
   "outputs": [
    {
     "data": {
      "image/png": "[encoded data removed]",
      "text/plain": [
       "<Figure size 432x288 with 1 Axes>"
      ]
     },
     "metadata": {
      "needs_background": "light"
     },
     "output_type": "display_data"
    }
   ],
   "source": [
    "fig = plt.figure()\n",
    "error_bar_set = dict(lw = 1, capthick = 1, capsize = 14)\n",
    "plt.bar(np.arange(len(mcpu_data)), np.array(mcpu_data), yerr=np.array(scpu_data), \n",
    "        error_kw=error_bar_set, \n",
    "        color='red', alpha=0.4)\n",
    "\n",
    "plt.ylabel(\"Utilization % \", fontsize=14)\n",
    "plt.ylim(0,115)\n",
    "plt.xticks(np.arange(len(mcpu_data)), ['Baseline', 'Totaltime', 'Gradient'])\n",
    "plt.tick_params(labelsize=14)\n",
    "plt.title(' App2 CPU Utilization', fontsize=14)\n",
    "plt.savefig(\"./app2_cpu_utils.png\")"
   ]
  },
  {
   "cell_type": "code",
   "execution_count": 193,
   "metadata": {},
   "outputs": [
    {
     "data": {
      "image/png": "[encoded data removed]",
      "text/plain": [
       "<Figure size 432x288 with 1 Axes>"
      ]
     },
     "metadata": {
      "needs_background": "light"
     },
     "output_type": "display_data"
    }
   ],
   "source": [
    "fig = plt.figure()\n",
    "error_bar_set = dict(lw = 1, capthick = 1, capsize = 14)\n",
    "plt.bar(np.arange(len(mmem_data)), np.array(mmem_data), yerr=np.array(smem_data), \n",
    "        error_kw=error_bar_set, \n",
    "        color='blue', alpha=0.4)\n",
    "\n",
    "plt.ylabel(\"Utilization % \", fontsize=14)\n",
    "plt.ylim(0,30)\n",
    "plt.xticks(np.arange(len(mcpu_data)), ['Baseline', 'Totaltime', 'Gradient'])\n",
    "plt.tick_params(labelsize=14)\n",
    "plt.title(' App2 Memory Utilization', fontsize=14)\n",
    "plt.savefig(\"./app2_mem_utils.png\")"
   ]
  },
  {
   "cell_type": "markdown",
   "metadata": {},
   "source": [
    "### plot hist and save"
   ]
  },
  {
   "cell_type": "code",
   "execution_count": 82,
   "metadata": {
    "scrolled": false
   },
   "outputs": [
    {
     "data": {
      "image/png": "[encoded data removed]",
      "text/plain": [
       "<Figure size 432x288 with 2 Axes>"
      ]
     },
     "metadata": {
      "needs_background": "light"
     },
     "output_type": "display_data"
    }
   ],
   "source": [
    "fig = plt.figure()\n",
    "#\n",
    "ax = plt.subplot(121)\n",
    "weights = _get_weight(mems)\n",
    "plt.hist(mems, weights=weights,label='memory', color='red', alpha=0.4)\n",
    "plt.legend(fontsize=12)\n",
    "ax.set_xlabel(\"memory utilization\", fontsize=14)\n",
    "ax.set_ylabel(\"Frequency\", fontsize=14)\n",
    "ax.tick_params(labelsize=12)\n",
    "ax.set_xticks(np.arange(0,76,25))\n",
    "\n",
    "#\n",
    "ax = plt.subplot(122)\n",
    "weights = _get_weight(cpus)\n",
    "plt.hist(cpus,weights=weights, label='cpu', color='blue',alpha=0.4)\n",
    "plt.legend(fontsize=12)\n",
    "ax.set_xlabel(\"cpu utilization\", fontsize=14)\n",
    "ax.set_ylabel(\"Frequency\", fontsize=14)\n",
    "ax.tick_params(labelsize=12)\n",
    "ax.set_xticks(np.arange(0,101,25))\n",
    "\n",
    "#\n",
    "fig.tight_layout()\n",
    "#plt.show()\n",
    "plt.savefig(\"./\"+oname)"
   ]
  },
  {
   "cell_type": "markdown",
   "metadata": {},
   "source": [
    "### Time series Analysis"
   ]
  },
  {
   "cell_type": "markdown",
   "metadata": {},
   "source": [
    "app1 simple/total/grd\n",
    "58471007\n"
   ]
  },
  {
   "cell_type": "code",
   "execution_count": 274,
   "metadata": {},
   "outputs": [],
   "source": [
    "app_type='app1'\n",
    "exp_type='simple'  # simple/total/grd \n",
    "jobid='58471007'  #jobid\n",
    "output_list = glob.glob(workdir+'/'+app_type+'_'+exp_type+'/outputs_app-1*'+jobid+'*.npy') "
   ]
  },
  {
   "cell_type": "code",
   "execution_count": 280,
   "metadata": {},
   "outputs": [],
   "source": [
    "mems, cpus, times = [], [], []\n",
    "for ifile in output_list:\n",
    "    _mem, _cpu, _time = _common_output(filename=ifile)\n",
    "    mems.extend(_mem)\n",
    "    cpus.extend(_cpu)\n",
    "    times.extend(_time)"
   ]
  },
  {
   "cell_type": "code",
   "execution_count": 281,
   "metadata": {},
   "outputs": [],
   "source": [
    "_times = []\n",
    "for idx, i  in enumerate(times):\n",
    "    if i - times[idx+1] < 0:\n",
    "        _times += [i]\n",
    "    else:\n",
    "        break"
   ]
  },
  {
   "cell_type": "code",
   "execution_count": 282,
   "metadata": {},
   "outputs": [
    {
     "data": {
      "text/plain": [
       "[12.115190029144287,\n",
       " 14.114497184753418,\n",
       " 16.114277362823486,\n",
       " 18.11447048187256,\n",
       " 20.114444255828857,\n",
       " 22.114271879196167,\n",
       " 26.114473342895508,\n",
       " 28.11430597305298,\n",
       " 30.114280700683594,\n",
       " 32.11446166038513,\n",
       " 34.114261627197266,\n",
       " 36.11426663398743,\n",
       " 38.11430311203003,\n",
       " 40.114293575286865,\n",
       " 42.11426544189453,\n",
       " 44.11445736885071,\n",
       " 46.11429572105408,\n",
       " 48.11429500579834,\n",
       " 50.114250898361206,\n",
       " 52.114279985427856,\n",
       " 54.11425256729126,\n",
       " 56.11429524421692,\n",
       " 58.11428475379944,\n",
       " 60.11429166793823,\n",
       " 62.11425423622131,\n",
       " 64.11506772041321,\n",
       " 66.11426162719727,\n",
       " 68.11424708366394,\n",
       " 70.11429977416992]"
      ]
     },
     "execution_count": 282,
     "metadata": {},
     "output_type": "execute_result"
    }
   ],
   "source": [
    "_times"
   ]
  },
  {
   "cell_type": "code",
   "execution_count": 284,
   "metadata": {},
   "outputs": [
    {
     "data": {
      "image/png": "[encoded data removed]",
      "text/plain": [
       "<matplotlib.figure.Figure at 0x7fa323a749e8>"
      ]
     },
     "metadata": {},
     "output_type": "display_data"
    }
   ],
   "source": [
    "fig = plt.figure()\n",
    "#\n",
    "ax = plt.subplot(121)\n",
    "weights = _get_weight(mems)\n",
    "plt.plot(_times, mems[:len(_times)],label='memory', color='red', alpha=0.4)\n",
    "plt.legend(fontsize=12)\n",
    "ax.set_xlabel(\"memory utilization\", fontsize=14)\n",
    "ax.set_ylabel(\"Frequency\", fontsize=14)\n",
    "ax.tick_params(labelsize=12)\n",
    "\n",
    "#\n",
    "ax = plt.subplot(122)\n",
    "weights = _get_weight(cpus)\n",
    "plt.plot(_times, cpus[:len(_times)], label='cpu', color='blue',alpha=0.4)\n",
    "plt.legend(fontsize=12)\n",
    "ax.set_xlabel(\"cpu utilization\", fontsize=14)\n",
    "ax.set_ylabel(\"Frequency\", fontsize=14)\n",
    "ax.tick_params(labelsize=12)\n",
    "\n",
    "#\n",
    "fig.tight_layout()\n",
    "plt.show()"
   ]
  },
  {
   "cell_type": "code",
   "execution_count": null,
   "metadata": {},
   "outputs": [],
   "source": []
  },
  {
   "cell_type": "code",
   "execution_count": null,
   "metadata": {},
   "outputs": [],
   "source": []
  },
  {
   "cell_type": "markdown",
   "metadata": {},
   "source": [
    "#### practice"
   ]
  },
  {
   "cell_type": "code",
   "execution_count": null,
   "metadata": {},
   "outputs": [],
   "source": [
    "#def _output_2(filename):\n",
    "#    array = load_npy(filedir+'/'+filename)\n",
    "#    output_mem = array[:,0, :]\n",
    "#    output_cpu = array[:,1, :]"
   ]
  },
  {
   "cell_type": "code",
   "execution_count": 57,
   "metadata": {},
   "outputs": [],
   "source": [
    "output1_mem_simple, output_cpu_simple = _common_output(filename=\"outputs_1_slurm-58255369-simple.npy\")"
   ]
  },
  {
   "cell_type": "code",
   "execution_count": 58,
   "metadata": {},
   "outputs": [
    {
     "data": {
      "text/plain": [
       "(5907, 5907)"
      ]
     },
     "execution_count": 58,
     "metadata": {},
     "output_type": "execute_result"
    }
   ],
   "source": [
    "len(output1_mem_simple), len(output_cpu_simple)"
   ]
  },
  {
   "cell_type": "code",
   "execution_count": 61,
   "metadata": {},
   "outputs": [
    {
     "data": {
      "text/plain": [
       "(5907,)"
      ]
     },
     "execution_count": 61,
     "metadata": {},
     "output_type": "execute_result"
    }
   ],
   "source": [
    "np.asarray(output_cpu_simple).shape"
   ]
  },
  {
   "cell_type": "markdown",
   "metadata": {},
   "source": [
    "#### gen ouput"
   ]
  },
  {
   "cell_type": "code",
   "execution_count": 62,
   "metadata": {},
   "outputs": [],
   "source": [
    "filelist = [\n",
    "    \"outputs_1_slurm-58255369-simple.npy\",\n",
    "    \"outputs_2_slurm-58255369-simple.npy\",\n",
    "    \"outputs_3_slurm-58255369-simple.npy\",\n",
    "    \"outputs_4_slurm-58255369-simple.npy\"\n",
    "]"
   ]
  },
  {
   "cell_type": "code",
   "execution_count": 63,
   "metadata": {},
   "outputs": [],
   "source": [
    "mem_simple = []\n",
    "cpu_simple = []\n",
    "for ifile in filelist:\n",
    "    _tmp_mem, _tmp_cpu = _common_output(filename=ifile)\n",
    "    mem_simple.extend(_tmp_mem)\n",
    "    cpu_simple.extend(_tmp_cpu)"
   ]
  },
  {
   "cell_type": "code",
   "execution_count": 65,
   "metadata": {},
   "outputs": [
    {
     "data": {
      "text/plain": [
       "(11952,)"
      ]
     },
     "execution_count": 65,
     "metadata": {},
     "output_type": "execute_result"
    }
   ],
   "source": [
    "np.asarray(cpu_simple).shape"
   ]
  },
  {
   "cell_type": "code",
   "execution_count": 66,
   "metadata": {},
   "outputs": [
    {
     "data": {
      "text/plain": [
       "(array([    0.,     0.,     0.,     0.,     0., 11952.,     0.,     0.,\n",
       "            0.,     0.]),\n",
       " array([18.5, 18.6, 18.7, 18.8, 18.9, 19. , 19.1, 19.2, 19.3, 19.4, 19.5]),\n",
       " <a list of 10 Patch objects>)"
      ]
     },
     "execution_count": 66,
     "metadata": {},
     "output_type": "execute_result"
    },
    {
     "data": {
      "image/png": "[encoded data removed]",
      "text/plain": [
       "<Figure size 432x288 with 1 Axes>"
      ]
     },
     "metadata": {
      "needs_background": "light"
     },
     "output_type": "display_data"
    }
   ],
   "source": [
    "plt.hist(mem_simple)"
   ]
  },
  {
   "cell_type": "code",
   "execution_count": 67,
   "metadata": {},
   "outputs": [
    {
     "data": {
      "text/plain": [
       "(array([ 149.,  154.,    0.,    0.,   10.,   34., 1883.,   43.,   29.,\n",
       "        9650.]),\n",
       " array([  0.,  10.,  20.,  30.,  40.,  50.,  60.,  70.,  80.,  90., 100.]),\n",
       " <a list of 10 Patch objects>)"
      ]
     },
     "execution_count": 67,
     "metadata": {},
     "output_type": "execute_result"
    },
    {
     "data": {
      "image/png": "[encoded data removed]",
      "text/plain": [
       "<Figure size 432x288 with 1 Axes>"
      ]
     },
     "metadata": {
      "needs_background": "light"
     },
     "output_type": "display_data"
    }
   ],
   "source": [
    "plt.hist(cpu_simple)"
   ]
  },
  {
   "cell_type": "code",
   "execution_count": 68,
   "metadata": {},
   "outputs": [],
   "source": [
    "_filelist = [\n",
    "    \"outputs_1_slurm-58256907-htex_totaltime.npy\",\n",
    "    \"outputs_2_slurm-58256907-htex_totaltime.npy\",\n",
    "    \"outputs_3_slurm-58256907-htex_totaltime.npy\",\n",
    "    \"outputs_4_slurm-58256907-htex_totaltime.npy\"\n",
    "]"
   ]
  },
  {
   "cell_type": "code",
   "execution_count": 76,
   "metadata": {},
   "outputs": [],
   "source": [
    "mem_time = []\n",
    "cpu_time = []\n",
    "for ifile in _filelist:\n",
    "    _tmp_mem, _tmp_cpu = _common_output(filename=ifile)\n",
    "    mem_time.extend(_tmp_mem)\n",
    "    cpu_time.extend(_tmp_cpu)"
   ]
  },
  {
   "cell_type": "code",
   "execution_count": 77,
   "metadata": {},
   "outputs": [
    {
     "data": {
      "text/plain": [
       "(array([    0.,     0.,     0.,     0.,     0., 11929.,     0.,     0.,\n",
       "            0.,     0.]),\n",
       " array([16.2, 16.3, 16.4, 16.5, 16.6, 16.7, 16.8, 16.9, 17. , 17.1, 17.2]),\n",
       " <a list of 10 Patch objects>)"
      ]
     },
     "execution_count": 77,
     "metadata": {},
     "output_type": "execute_result"
    },
    {
     "data": {
      "image/png": "[encoded data removed]",
      "text/plain": [
       "<Figure size 432x288 with 1 Axes>"
      ]
     },
     "metadata": {
      "needs_background": "light"
     },
     "output_type": "display_data"
    }
   ],
   "source": [
    "plt.hist(mem_time)"
   ]
  },
  {
   "cell_type": "code",
   "execution_count": 78,
   "metadata": {},
   "outputs": [
    {
     "data": {
      "text/plain": [
       "(array([1.180e+02, 1.550e+02, 0.000e+00, 7.000e+00, 2.700e+01, 1.700e+01,\n",
       "        1.890e+03, 6.700e+01, 1.000e+01, 9.638e+03]),\n",
       " array([  0.,  10.,  20.,  30.,  40.,  50.,  60.,  70.,  80.,  90., 100.]),\n",
       " <a list of 10 Patch objects>)"
      ]
     },
     "execution_count": 78,
     "metadata": {},
     "output_type": "execute_result"
    },
    {
     "data": {
      "image/png": "[encoded data removed]",
      "text/plain": [
       "<Figure size 432x288 with 1 Axes>"
      ]
     },
     "metadata": {
      "needs_background": "light"
     },
     "output_type": "display_data"
    }
   ],
   "source": [
    "plt.hist(cpu_time)"
   ]
  },
  {
   "cell_type": "markdown",
   "metadata": {},
   "source": [
    "### pairwise"
   ]
  },
  {
   "cell_type": "code",
   "execution_count": 83,
   "metadata": {},
   "outputs": [
    {
     "data": {
      "text/plain": [
       "(19.0, 16.699999999999996)"
      ]
     },
     "execution_count": 83,
     "metadata": {},
     "output_type": "execute_result"
    }
   ],
   "source": [
    "np.mean(mem_simple), np.mean(mem_time)"
   ]
  },
  {
   "cell_type": "code",
   "execution_count": 81,
   "metadata": {},
   "outputs": [
    {
     "data": {
      "text/plain": [
       "(91.14251171352075, 91.25474893117614)"
      ]
     },
     "execution_count": 81,
     "metadata": {},
     "output_type": "execute_result"
    }
   ],
   "source": [
    "np.mean(cpu_simple), np.mean(cpu_time)"
   ]
  },
  {
   "cell_type": "code",
   "execution_count": 84,
   "metadata": {},
   "outputs": [
    {
     "data": {
      "text/plain": [
       "(0.0, 3.552713678800501e-15)"
      ]
     },
     "execution_count": 84,
     "metadata": {},
     "output_type": "execute_result"
    }
   ],
   "source": [
    "np.std(mem_simple), np.std(mem_time)"
   ]
  },
  {
   "cell_type": "code",
   "execution_count": 85,
   "metadata": {},
   "outputs": [
    {
     "data": {
      "text/plain": [
       "(19.95017377244451, 19.56055178089552)"
      ]
     },
     "execution_count": 85,
     "metadata": {},
     "output_type": "execute_result"
    }
   ],
   "source": [
    "np.std(cpu_simple), np.std(cpu_time)"
   ]
  },
  {
   "cell_type": "code",
   "execution_count": null,
   "metadata": {},
   "outputs": [],
   "source": []
  },
  {
   "cell_type": "markdown",
   "metadata": {},
   "source": [
    "## Check IO array"
   ]
  },
  {
   "cell_type": "markdown",
   "metadata": {},
   "source": [
    "### Ouptut 1"
   ]
  },
  {
   "cell_type": "code",
   "execution_count": 3,
   "metadata": {},
   "outputs": [],
   "source": [
    "a = load_npy(\"./outputs_1_slurm-58255369-simple.npy\")"
   ]
  },
  {
   "cell_type": "code",
   "execution_count": 4,
   "metadata": {},
   "outputs": [
    {
     "data": {
      "text/plain": [
       "(100, 2)"
      ]
     },
     "execution_count": 4,
     "metadata": {},
     "output_type": "execute_result"
    }
   ],
   "source": [
    "a.shape"
   ]
  },
  {
   "cell_type": "code",
   "execution_count": 6,
   "metadata": {},
   "outputs": [],
   "source": [
    "b =  load_npy(\"./outputs_1_slurm-58256907-htex_totaltime.npy\")"
   ]
  },
  {
   "cell_type": "code",
   "execution_count": 7,
   "metadata": {},
   "outputs": [
    {
     "data": {
      "text/plain": [
       "(100, 2)"
      ]
     },
     "execution_count": 7,
     "metadata": {},
     "output_type": "execute_result"
    }
   ],
   "source": [
    "b.shape"
   ]
  },
  {
   "cell_type": "code",
   "execution_count": 32,
   "metadata": {},
   "outputs": [],
   "source": [
    "output1_simple_mem = a[:,0]\n",
    "output1_simple_cpu = a[:,1]"
   ]
  },
  {
   "cell_type": "code",
   "execution_count": 31,
   "metadata": {},
   "outputs": [],
   "source": [
    "output1_time_mem = b[:,0]\n",
    "output1_time_cpu = b[:,1]"
   ]
  },
  {
   "cell_type": "code",
   "execution_count": 40,
   "metadata": {
    "scrolled": false
   },
   "outputs": [],
   "source": [
    "_a = []\n",
    "for i in output1_simple_mem:\n",
    "    _a.extend(i)"
   ]
  },
  {
   "cell_type": "code",
   "execution_count": 41,
   "metadata": {},
   "outputs": [
    {
     "data": {
      "text/plain": [
       "5907"
      ]
     },
     "execution_count": 41,
     "metadata": {},
     "output_type": "execute_result"
    }
   ],
   "source": [
    "len(_a)"
   ]
  },
  {
   "cell_type": "markdown",
   "metadata": {},
   "source": [
    "### Output 2"
   ]
  },
  {
   "cell_type": "code",
   "execution_count": 12,
   "metadata": {},
   "outputs": [],
   "source": [
    "c = load_npy(\"./outputs_2_slurm-58255369-simple.npy\")"
   ]
  },
  {
   "cell_type": "code",
   "execution_count": 13,
   "metadata": {},
   "outputs": [
    {
     "data": {
      "text/plain": [
       "(2, 2, 31)"
      ]
     },
     "execution_count": 13,
     "metadata": {},
     "output_type": "execute_result"
    }
   ],
   "source": [
    "c.shape"
   ]
  },
  {
   "cell_type": "code",
   "execution_count": 15,
   "metadata": {},
   "outputs": [
    {
     "data": {
      "text/plain": [
       "array([19., 19., 19., 19., 19., 19., 19., 19., 19., 19., 19., 19., 19.,\n",
       "       19., 19., 19., 19., 19., 19., 19., 19., 19., 19., 19., 19., 19.,\n",
       "       19., 19., 19., 19., 19.])"
      ]
     },
     "execution_count": 15,
     "metadata": {},
     "output_type": "execute_result"
    }
   ],
   "source": [
    "c[0,0,:]"
   ]
  },
  {
   "cell_type": "code",
   "execution_count": 16,
   "metadata": {},
   "outputs": [
    {
     "data": {
      "text/plain": [
       "array([59.2, 10.7, 10.7, 10.7, 10.7, 10.7, 10.8, 10.7, 10.7, 10.7, 10.7,\n",
       "       10.7, 10.7, 10.7, 10.7, 10.7, 10.7, 10.7, 10.7, 10.7, 10.9, 10.7,\n",
       "       10.7, 10.7, 10.7, 10.7, 10.7, 10.7, 10.7, 10.7,  0. ])"
      ]
     },
     "execution_count": 16,
     "metadata": {},
     "output_type": "execute_result"
    }
   ],
   "source": [
    "c[0,1,:]"
   ]
  },
  {
   "cell_type": "code",
   "execution_count": 17,
   "metadata": {},
   "outputs": [
    {
     "data": {
      "text/plain": [
       "array([19., 19., 19., 19., 19., 19., 19., 19., 19., 19., 19., 19., 19.,\n",
       "       19., 19., 19., 19., 19., 19., 19., 19., 19., 19., 19., 19., 19.,\n",
       "       19., 19., 19., 19., 19.])"
      ]
     },
     "execution_count": 17,
     "metadata": {},
     "output_type": "execute_result"
    }
   ],
   "source": [
    "c[1,0,:]"
   ]
  },
  {
   "cell_type": "code",
   "execution_count": 18,
   "metadata": {},
   "outputs": [
    {
     "data": {
      "text/plain": [
       "array([59.2, 10.7, 10.7, 10.7, 10.7, 10.7, 10.8, 10.7, 10.7, 10.7, 10.7,\n",
       "       10.7, 10.7, 10.7, 10.7, 10.7, 10.7, 10.7, 10.7, 10.7, 10.9, 10.7,\n",
       "       10.7, 10.7, 10.7, 10.7, 10.7, 10.7, 10.7, 10.7,  0. ])"
      ]
     },
     "execution_count": 18,
     "metadata": {},
     "output_type": "execute_result"
    }
   ],
   "source": [
    "c[1,1,:]"
   ]
  },
  {
   "cell_type": "code",
   "execution_count": 51,
   "metadata": {},
   "outputs": [],
   "source": [
    "output2_simple_mem = c[:,0,:]\n",
    "output2_simple_cpu = c[:,1,:]"
   ]
  },
  {
   "cell_type": "code",
   "execution_count": 52,
   "metadata": {},
   "outputs": [
    {
     "data": {
      "text/plain": [
       "(2, 31)"
      ]
     },
     "execution_count": 52,
     "metadata": {},
     "output_type": "execute_result"
    }
   ],
   "source": [
    "output2_simple_mem.shape"
   ]
  },
  {
   "cell_type": "code",
   "execution_count": 53,
   "metadata": {},
   "outputs": [],
   "source": [
    "_output2_simple_mem = c[:,0]"
   ]
  },
  {
   "cell_type": "code",
   "execution_count": 54,
   "metadata": {},
   "outputs": [
    {
     "data": {
      "text/plain": [
       "(2, 31)"
      ]
     },
     "execution_count": 54,
     "metadata": {},
     "output_type": "execute_result"
    }
   ],
   "source": [
    "_output2_simple_mem.shape"
   ]
  },
  {
   "cell_type": "code",
   "execution_count": 21,
   "metadata": {},
   "outputs": [
    {
     "data": {
      "text/plain": [
       "array([[59.2, 10.7, 10.7, 10.7, 10.7, 10.7, 10.8, 10.7, 10.7, 10.7, 10.7,\n",
       "        10.7, 10.7, 10.7, 10.7, 10.7, 10.7, 10.7, 10.7, 10.7, 10.9, 10.7,\n",
       "        10.7, 10.7, 10.7, 10.7, 10.7, 10.7, 10.7, 10.7,  0. ],\n",
       "       [59.2, 10.7, 10.7, 10.7, 10.7, 10.7, 10.8, 10.7, 10.7, 10.7, 10.7,\n",
       "        10.7, 10.7, 10.7, 10.7, 10.7, 10.7, 10.7, 10.7, 10.7, 10.9, 10.7,\n",
       "        10.7, 10.7, 10.7, 10.7, 10.7, 10.7, 10.7, 10.7,  0. ]])"
      ]
     },
     "execution_count": 21,
     "metadata": {},
     "output_type": "execute_result"
    }
   ],
   "source": [
    "output2_simple_cpu"
   ]
  },
  {
   "cell_type": "code",
   "execution_count": 22,
   "metadata": {},
   "outputs": [
    {
     "data": {
      "text/plain": [
       "2"
      ]
     },
     "execution_count": 22,
     "metadata": {},
     "output_type": "execute_result"
    }
   ],
   "source": [
    "len(output2_simple_mem)"
   ]
  },
  {
   "cell_type": "code",
   "execution_count": 23,
   "metadata": {},
   "outputs": [],
   "source": [
    "_c = []\n",
    "for i in output2_simple_mem:\n",
    "    _c.extend(i)"
   ]
  },
  {
   "cell_type": "code",
   "execution_count": 25,
   "metadata": {},
   "outputs": [
    {
     "data": {
      "text/plain": [
       "62"
      ]
     },
     "execution_count": 25,
     "metadata": {},
     "output_type": "execute_result"
    }
   ],
   "source": [
    "len(_c)"
   ]
  },
  {
   "cell_type": "markdown",
   "metadata": {},
   "source": [
    "### Output 3"
   ]
  },
  {
   "cell_type": "code",
   "execution_count": 26,
   "metadata": {},
   "outputs": [],
   "source": [
    "d = load_npy(\"./outputs_3_slurm-58255369-simple.npy\")"
   ]
  },
  {
   "cell_type": "code",
   "execution_count": 27,
   "metadata": {},
   "outputs": [
    {
     "data": {
      "text/plain": [
       "(100, 2)"
      ]
     },
     "execution_count": 27,
     "metadata": {},
     "output_type": "execute_result"
    }
   ],
   "source": [
    "d.shape"
   ]
  },
  {
   "cell_type": "code",
   "execution_count": 30,
   "metadata": {},
   "outputs": [],
   "source": [
    "output3_simple_mem = d[:,0]"
   ]
  },
  {
   "cell_type": "code",
   "execution_count": 34,
   "metadata": {},
   "outputs": [
    {
     "data": {
      "text/plain": [
       "100"
      ]
     },
     "execution_count": 34,
     "metadata": {},
     "output_type": "execute_result"
    }
   ],
   "source": [
    "len(output3_simple_mem)"
   ]
  },
  {
   "cell_type": "code",
   "execution_count": 37,
   "metadata": {
    "scrolled": false
   },
   "outputs": [],
   "source": [
    "_d = []\n",
    "for i in output3_simple_mem:\n",
    "    _d.extend(i)"
   ]
  },
  {
   "cell_type": "code",
   "execution_count": 38,
   "metadata": {},
   "outputs": [
    {
     "data": {
      "text/plain": [
       "5899"
      ]
     },
     "execution_count": 38,
     "metadata": {},
     "output_type": "execute_result"
    }
   ],
   "source": [
    "len(_d)"
   ]
  },
  {
   "cell_type": "code",
   "execution_count": 42,
   "metadata": {},
   "outputs": [],
   "source": [
    "e = load_npy(\"./outputs_4_slurm-58255369-simple.npy\")"
   ]
  },
  {
   "cell_type": "code",
   "execution_count": 43,
   "metadata": {},
   "outputs": [
    {
     "data": {
      "text/plain": [
       "(3, 2)"
      ]
     },
     "execution_count": 43,
     "metadata": {},
     "output_type": "execute_result"
    }
   ],
   "source": [
    "e.shape"
   ]
  },
  {
   "cell_type": "code",
   "execution_count": 46,
   "metadata": {},
   "outputs": [],
   "source": [
    "output4_simple_mem = e[:,0]"
   ]
  },
  {
   "cell_type": "code",
   "execution_count": 49,
   "metadata": {},
   "outputs": [],
   "source": [
    "_e = []\n",
    "for i in output4_simple_mem:\n",
    "    _e.extend(i)"
   ]
  },
  {
   "cell_type": "code",
   "execution_count": 50,
   "metadata": {},
   "outputs": [
    {
     "data": {
      "text/plain": [
       "84"
      ]
     },
     "execution_count": 50,
     "metadata": {},
     "output_type": "execute_result"
    }
   ],
   "source": [
    "len(_e)"
   ]
  },
  {
   "cell_type": "code",
   "execution_count": null,
   "metadata": {},
   "outputs": [],
   "source": []
  }
 ],
 "metadata": {
  "kernelspec": {
   "display_name": "Python 3",
   "language": "python",
   "name": "python3"
  },
  "language_info": {
   "codemirror_mode": {
    "name": "ipython",
    "version": 3
   },
   "file_extension": ".py",
   "mimetype": "text/x-python",
   "name": "python",
   "nbconvert_exporter": "python",
   "pygments_lexer": "ipython3",
   "version": "3.6.2"
  }
 },
 "nbformat": 4,
 "nbformat_minor": 2
}
