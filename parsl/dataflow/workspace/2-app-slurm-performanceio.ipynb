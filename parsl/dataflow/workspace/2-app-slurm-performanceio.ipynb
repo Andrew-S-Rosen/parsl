{
 "cells": [
  {
   "cell_type": "code",
   "execution_count": 1,
   "metadata": {},
   "outputs": [],
   "source": [
    "%matplotlib inline\n",
    "import os\n",
    "import sys\n",
    "import glob\n",
    "import numpy as np\n",
    "import matplotlib.pyplot as plt"
   ]
  },
  {
   "cell_type": "code",
   "execution_count": 53,
   "metadata": {},
   "outputs": [],
   "source": [
    "import pandas as pd"
   ]
  },
  {
   "cell_type": "code",
   "execution_count": 2,
   "metadata": {},
   "outputs": [],
   "source": [
    "def load_npy(filename):\n",
    "    return np.load(filename)"
   ]
  },
  {
   "cell_type": "code",
   "execution_count": 3,
   "metadata": {},
   "outputs": [],
   "source": [
    "def _common_output(filename='output'):\n",
    "    array = load_npy(filename)\n",
    "    output_mem = array[:,0]\n",
    "    output_cpu = array[:,1]\n",
    "    output_time = array[:,2]\n",
    "    _mems = []\n",
    "    _cpus = []\n",
    "    _times = []\n",
    "    for i, j, k in zip( output_mem, output_cpu, output_time):\n",
    "        _mems.extend(i)\n",
    "        _cpus.extend(j)\n",
    "        _times.extend(k)\n",
    "    return _mems, _cpus, _times"
   ]
  },
  {
   "cell_type": "code",
   "execution_count": 4,
   "metadata": {},
   "outputs": [],
   "source": [
    "def _common_output_dev(filename='output'):\n",
    "    array = load_npy(filename)\n",
    "    output_time = array[:,2]\n",
    "    _times = []\n",
    "    for k in  output_time:\n",
    "        print(\" ----- \")\n",
    "        print(np.asarray(k).shape)\n",
    "        print(np.amax(k) )\n",
    "        print(np.amin(k) )\n",
    "        tmax = np.amax(k)\n",
    "        ctime = tmax - np.amin(k)\n",
    "        _times.append(ctime)\n",
    "    return _times"
   ]
  },
  {
   "cell_type": "code",
   "execution_count": 5,
   "metadata": {},
   "outputs": [],
   "source": [
    "def _common_output_dev2(filename='output'):\n",
    "    array = load_npy(filename)\n",
    "    output_time = array[:,2]\n",
    "    _times = []\n",
    "    for k in  output_time:\n",
    "        _times.extend(k)\n",
    "    return max(_times)"
   ]
  },
  {
   "cell_type": "code",
   "execution_count": 100,
   "metadata": {},
   "outputs": [],
   "source": [
    "def fill_val(array1d, inarray):\n",
    "    for idx, i in enumerate(inarray) :\n",
    "        array1d[idx] = i\n",
    "    array1d[len(inarray):] = np.nan\n",
    "    return array1d"
   ]
  },
  {
   "cell_type": "code",
   "execution_count": 6,
   "metadata": {},
   "outputs": [],
   "source": [
    "workdir='/home/tkurihana/scratch-midway2/parsl/parsl/dataflow/workspace/workjob'"
   ]
  },
  {
   "cell_type": "code",
   "execution_count": 142,
   "metadata": {},
   "outputs": [],
   "source": [
    "app_type='app2'\n",
    "exp_type='grd'  # /total/grd "
   ]
  },
  {
   "cell_type": "code",
   "execution_count": 143,
   "metadata": {},
   "outputs": [],
   "source": [
    "output1_list = glob.glob(workdir+'/'+app_type+'_'+exp_type+'/outputs_app2-1_slurm-*')\n",
    "output1_list.sort()"
   ]
  },
  {
   "cell_type": "code",
   "execution_count": 144,
   "metadata": {},
   "outputs": [],
   "source": [
    "output2_list = glob.glob(workdir+'/'+app_type+'_'+exp_type+'/outputs_app2-2_slurm-*')\n",
    "output2_list.sort()"
   ]
  },
  {
   "cell_type": "code",
   "execution_count": 145,
   "metadata": {},
   "outputs": [],
   "source": [
    "output3_list = glob.glob(workdir+'/'+app_type+'_'+exp_type+'/outputs_app2-3_slurm-*')\n",
    "output3_list.sort()"
   ]
  },
  {
   "cell_type": "code",
   "execution_count": 46,
   "metadata": {},
   "outputs": [],
   "source": [
    "output4_list = glob.glob(workdir+'/'+app_type+'_'+exp_type+'/outputs_app-4_slurm-*')\n",
    "output4_list.sort()"
   ]
  },
  {
   "cell_type": "code",
   "execution_count": 146,
   "metadata": {},
   "outputs": [
    {
     "data": {
      "text/plain": [
       "['/home/tkurihana/scratch-midway2/parsl/parsl/dataflow/workspace/workjob/app2_grd/outputs_app2-3_slurm-58470941-htex_gradient.npy',\n",
       " '/home/tkurihana/scratch-midway2/parsl/parsl/dataflow/workspace/workjob/app2_grd/outputs_app2-3_slurm-58471031-htex_gradient.npy',\n",
       " '/home/tkurihana/scratch-midway2/parsl/parsl/dataflow/workspace/workjob/app2_grd/outputs_app2-3_slurm-58471128-htex_gradient.npy',\n",
       " '/home/tkurihana/scratch-midway2/parsl/parsl/dataflow/workspace/workjob/app2_grd/outputs_app2-3_slurm-58471208-htex_gradient.npy',\n",
       " '/home/tkurihana/scratch-midway2/parsl/parsl/dataflow/workspace/workjob/app2_grd/outputs_app2-3_slurm-58471292-htex_gradient.npy',\n",
       " '/home/tkurihana/scratch-midway2/parsl/parsl/dataflow/workspace/workjob/app2_grd/outputs_app2-3_slurm-58472336-htex_gradient.npy',\n",
       " '/home/tkurihana/scratch-midway2/parsl/parsl/dataflow/workspace/workjob/app2_grd/outputs_app2-3_slurm-58472881-htex_gradient.npy',\n",
       " '/home/tkurihana/scratch-midway2/parsl/parsl/dataflow/workspace/workjob/app2_grd/outputs_app2-3_slurm-58473114-htex_gradient.npy',\n",
       " '/home/tkurihana/scratch-midway2/parsl/parsl/dataflow/workspace/workjob/app2_grd/outputs_app2-3_slurm-58473393-htex_gradient.npy',\n",
       " '/home/tkurihana/scratch-midway2/parsl/parsl/dataflow/workspace/workjob/app2_grd/outputs_app2-3_slurm-58473501-htex_gradient.npy',\n",
       " '/home/tkurihana/scratch-midway2/parsl/parsl/dataflow/workspace/workjob/app2_grd/outputs_app2-3_slurm-58473641-htex_gradient.npy',\n",
       " '/home/tkurihana/scratch-midway2/parsl/parsl/dataflow/workspace/workjob/app2_grd/outputs_app2-3_slurm-58473754-htex_gradient.npy',\n",
       " '/home/tkurihana/scratch-midway2/parsl/parsl/dataflow/workspace/workjob/app2_grd/outputs_app2-3_slurm-58474001-htex_gradient.npy',\n",
       " '/home/tkurihana/scratch-midway2/parsl/parsl/dataflow/workspace/workjob/app2_grd/outputs_app2-3_slurm-58474385-htex_gradient.npy',\n",
       " '/home/tkurihana/scratch-midway2/parsl/parsl/dataflow/workspace/workjob/app2_grd/outputs_app2-3_slurm-58474717-htex_gradient.npy',\n",
       " '/home/tkurihana/scratch-midway2/parsl/parsl/dataflow/workspace/workjob/app2_grd/outputs_app2-3_slurm-58475760-htex_gradient.npy',\n",
       " '/home/tkurihana/scratch-midway2/parsl/parsl/dataflow/workspace/workjob/app2_grd/outputs_app2-3_slurm-58475990-htex_gradient.npy',\n",
       " '/home/tkurihana/scratch-midway2/parsl/parsl/dataflow/workspace/workjob/app2_grd/outputs_app2-3_slurm-58476475-htex_gradient.npy',\n",
       " '/home/tkurihana/scratch-midway2/parsl/parsl/dataflow/workspace/workjob/app2_grd/outputs_app2-3_slurm-58476671-htex_gradient.npy',\n",
       " '/home/tkurihana/scratch-midway2/parsl/parsl/dataflow/workspace/workjob/app2_grd/outputs_app2-3_slurm-58476857-htex_gradient.npy']"
      ]
     },
     "execution_count": 146,
     "metadata": {},
     "output_type": "execute_result"
    }
   ],
   "source": [
    "output3_list"
   ]
  },
  {
   "cell_type": "markdown",
   "metadata": {},
   "source": [
    "### Estimated run time "
   ]
  },
  {
   "cell_type": "code",
   "execution_count": 13,
   "metadata": {},
   "outputs": [],
   "source": [
    "def gtime(_filelist):\n",
    "    times = []\n",
    "    for ifile in _filelist:\n",
    "        _mem, _cpu, _time = _common_output(filename=ifile)\n",
    "        init_time = np.amin(_time)\n",
    "        end_time = np.amax(_time)\n",
    "        etime = end_time - init_time\n",
    "        times.append(etime)\n",
    "    return times"
   ]
  },
  {
   "cell_type": "code",
   "execution_count": 14,
   "metadata": {},
   "outputs": [],
   "source": [
    "def gtime_dev(_filelist):\n",
    "    times = []\n",
    "    for ifile in _filelist:\n",
    "        _time = _common_output_dev2(filename=ifile)\n",
    "        #print(_time)\n",
    "        mean_time = np.mean(_time)\n",
    "        times.append(mean_time)\n",
    "    return times"
   ]
  },
  {
   "cell_type": "code",
   "execution_count": 147,
   "metadata": {
    "scrolled": false
   },
   "outputs": [],
   "source": [
    "times = []\n",
    "for _filelist in [output3_list]:\n",
    "    times += [ gtime_dev(_filelist) ]"
   ]
  },
  {
   "cell_type": "code",
   "execution_count": 148,
   "metadata": {},
   "outputs": [
    {
     "data": {
      "text/plain": [
       "[[293.26441502571106,\n",
       "  339.01940131187439,\n",
       "  343.9579074382782,\n",
       "  338.26167035102844,\n",
       "  293.22823762893677,\n",
       "  343.70753240585327,\n",
       "  338.18057894706726,\n",
       "  288.1692316532135,\n",
       "  299.66939496994019,\n",
       "  293.47671723365784,\n",
       "  338.3734610080719,\n",
       "  294.70512843132019,\n",
       "  348.49015021324158,\n",
       "  293.0173807144165,\n",
       "  338.41424345970154,\n",
       "  343.35796189308167,\n",
       "  339.34048128128052,\n",
       "  353.57371520996094,\n",
       "  338.237459897995,\n",
       "  352.8518922328949]]"
      ]
     },
     "execution_count": 148,
     "metadata": {},
     "output_type": "execute_result"
    }
   ],
   "source": [
    "times"
   ]
  },
  {
   "cell_type": "code",
   "execution_count": 149,
   "metadata": {},
   "outputs": [
    {
     "data": {
      "text/plain": [
       "(1, 20)"
      ]
     },
     "execution_count": 149,
     "metadata": {},
     "output_type": "execute_result"
    }
   ],
   "source": [
    "np.asarray(times).shape"
   ]
  },
  {
   "cell_type": "code",
   "execution_count": 150,
   "metadata": {},
   "outputs": [],
   "source": [
    "runtime = times"
   ]
  },
  {
   "cell_type": "code",
   "execution_count": 301,
   "metadata": {},
   "outputs": [],
   "source": [
    "#runtime = np.sum(times, axis=0)"
   ]
  },
  {
   "cell_type": "markdown",
   "metadata": {},
   "source": [
    "### Save data here"
   ]
  },
  {
   "cell_type": "code",
   "execution_count": 122,
   "metadata": {},
   "outputs": [],
   "source": [
    "app2_default = runtime"
   ]
  },
  {
   "cell_type": "code",
   "execution_count": 132,
   "metadata": {},
   "outputs": [],
   "source": [
    "app2_simple = runtime"
   ]
  },
  {
   "cell_type": "code",
   "execution_count": 141,
   "metadata": {},
   "outputs": [],
   "source": [
    "app2_total = runtime"
   ]
  },
  {
   "cell_type": "code",
   "execution_count": 151,
   "metadata": {},
   "outputs": [],
   "source": [
    "app2_grd = runtime"
   ]
  },
  {
   "cell_type": "markdown",
   "metadata": {},
   "source": [
    "### Plot"
   ]
  },
  {
   "cell_type": "code",
   "execution_count": 152,
   "metadata": {},
   "outputs": [],
   "source": [
    "nx = max(len(app2_default[0]), len(app2_simple[0]), len(app2_total[0]), len(app2_grd[0]) )"
   ]
  },
  {
   "cell_type": "code",
   "execution_count": 153,
   "metadata": {},
   "outputs": [
    {
     "data": {
      "text/plain": [
       "28"
      ]
     },
     "execution_count": 153,
     "metadata": {},
     "output_type": "execute_result"
    }
   ],
   "source": [
    "nx"
   ]
  },
  {
   "cell_type": "code",
   "execution_count": 154,
   "metadata": {},
   "outputs": [],
   "source": [
    "_app2_default = np.zeros((nx)) \n",
    "_app2_simple = np.zeros((nx))\n",
    "_app2_total = np.zeros((nx))\n",
    "_app2_grd = np.zeros((nx))\n",
    "\n",
    "_app2_default[:] = np.nan\n",
    "_app2_simple[:] = np.nan\n",
    "_app2_total[:] = np.nan\n",
    "_app2_grd[:] = np.nan"
   ]
  },
  {
   "cell_type": "code",
   "execution_count": 155,
   "metadata": {},
   "outputs": [],
   "source": [
    "app2_default_ = fill_val(_app2_default, app2_default[0])\n",
    "app2_simple_ = fill_val(_app2_simple, app2_simple[0])\n",
    "app2_total_ = fill_val(_app2_total, app2_total[0])\n",
    "app2_grd_ = fill_val(_app2_grd, app2_grd[0])"
   ]
  },
  {
   "cell_type": "code",
   "execution_count": 157,
   "metadata": {},
   "outputs": [
    {
     "data": {
      "text/plain": [
       "array([ 319.7878828 ,  318.94517517,  311.47665596,  261.32783937,\n",
       "        263.87622643,  311.00767922,  261.99161935,  318.41190434,\n",
       "        321.42404175,  320.09472346,  317.91795206,  261.68792105,\n",
       "        318.77893853,  255.87197113,  325.66178989,  319.84560037,\n",
       "        269.1239624 ,  315.67158675,  323.61845756,  322.74307513,\n",
       "                 nan,           nan,           nan,           nan,\n",
       "                 nan,           nan,           nan,           nan])"
      ]
     },
     "execution_count": 157,
     "metadata": {},
     "output_type": "execute_result"
    }
   ],
   "source": [
    "app2_default_"
   ]
  },
  {
   "cell_type": "code",
   "execution_count": 158,
   "metadata": {},
   "outputs": [
    {
     "data": {
      "image/png": "[encoded data removed]",
      "text/plain": [
       "<matplotlib.figure.Figure at 0x7f243cd45f60>"
      ]
     },
     "metadata": {},
     "output_type": "display_data"
    }
   ],
   "source": [
    "app = 'app2'\n",
    "ename='Long tail'\n",
    "data_list = [np.asarray(app2_default_).reshape(nx, 1),\n",
    "             np.asarray(app2_simple_).reshape(nx, 1), \n",
    "             np.asarray(app2_total_).reshape(nx, 1), \n",
    "             np.asarray(app2_grd_).reshape(nx, 1) \n",
    "           ]\n",
    "\n",
    "data = np.concatenate([ x for x in data_list ] , axis=1)\n",
    "\n",
    "df = pd.DataFrame(data)\n",
    "\n",
    "fig1, ax1 = plt.subplots()\n",
    "ax1.set_title(ename, fontsize = 16)\n",
    "#plt.xlabel('Strategy', fontsize = 12)\n",
    "plt.ylabel('Running time [s]', fontsize = 12)\n",
    "#df.boxplot()\n",
    "ax1.boxplot(df.dropna().values)\n",
    "plt.xticks(np.asarray([1,2,3,4]), [\"default\",\"simple\", \"totaltime\", \"gradient\"], fontsize=14)\n",
    "fig1.savefig('./'+str(app)+'_boxplot.png')"
   ]
  },
  {
   "cell_type": "code",
   "execution_count": null,
   "metadata": {},
   "outputs": [],
   "source": []
  },
  {
   "cell_type": "code",
   "execution_count": null,
   "metadata": {},
   "outputs": [],
   "source": []
  },
  {
   "cell_type": "code",
   "execution_count": null,
   "metadata": {},
   "outputs": [],
   "source": [
    "app = 'app1'\n",
    "ename='MapReduce'\n",
    "data_list = [np.asarray(_app2_default).reshape(nx, 1),\n",
    "             np.asarray(_app2_simple).reshape(nx, 1), \n",
    "             np.asarray(_app2_total).reshape(nx, 1), \n",
    "             np.asarray(_app2_grd).reshape(nx, 1) \n",
    "           ]\n",
    "\n",
    "data = np.concatenate([ x for x in data_list ] , axis=1)\n",
    "\n",
    "fig1, ax1 = plt.subplots()\n",
    "ax1.set_title(ename, fontsize = 16)\n",
    "#plt.xlabel('Strategy', fontsize = 12)\n",
    "plt.ylabel('Running time [s]', fontsize = 12)\n",
    "ax1.boxplot(data);\n",
    "plt.xticks(np.asarray([1,2,3,4]), [\"default\",\"simple\", \"totaltime\", \"gradient\"], fontsize=14)\n",
    "fig1.savefig('./'+str(app)+'_boxplot.png')"
   ]
  }
 ],
 "metadata": {
  "kernelspec": {
   "display_name": "Python 3",
   "language": "python",
   "name": "python3"
  },
  "language_info": {
   "codemirror_mode": {
    "name": "ipython",
    "version": 3
   },
   "file_extension": ".py",
   "mimetype": "text/x-python",
   "name": "python",
   "nbconvert_exporter": "python",
   "pygments_lexer": "ipython3",
   "version": "3.6.2"
  }
 },
 "nbformat": 4,
 "nbformat_minor": 2
}
