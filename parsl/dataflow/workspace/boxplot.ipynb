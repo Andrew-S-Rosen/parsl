{
 "cells": [
  {
   "cell_type": "code",
   "execution_count": 1,
   "metadata": {},
   "outputs": [],
   "source": [
    "import numpy as np\n",
    "import matplotlib.pyplot as plt"
   ]
  },
  {
   "cell_type": "code",
   "execution_count": 2,
   "metadata": {
    "scrolled": true
   },
   "outputs": [
    {
     "data": {
      "image/png": "[encoded data removed]",
      "text/plain": [
       "<Figure size 432x288 with 1 Axes>"
      ]
     },
     "metadata": {
      "needs_background": "light"
     },
     "output_type": "display_data"
    }
   ],
   "source": [
    "import numpy as np\n",
    "import matplotlib.pyplot as plt\n",
    "\n",
    "np.random.seed(19680801)\n",
    "\n",
    "strnum = 5\n",
    "samples = 95\n",
    "data = np.zeros((samples, strnum))\n",
    "\n",
    "for i in range(strnum):\n",
    "    spread = np.random.rand(50) * 10\n",
    "    center = np.ones(25) * 5\n",
    "    flier_high = np.random.rand(10) * 10 + 10\n",
    "    flier_low = np.random.rand(10) * -10\n",
    "    data[:,i] = np.concatenate((spread, center, flier_high, flier_low))\n",
    "\n",
    "fig1, ax1 = plt.subplots()\n",
    "ax1.set_title('Some Plot')\n",
    "ax1.boxplot(data);\n"
   ]
  },
  {
   "cell_type": "code",
   "execution_count": 3,
   "metadata": {},
   "outputs": [
    {
     "data": {
      "image/png": "[encoded data removed]",
      "text/plain": [
       "<Figure size 432x288 with 1 Axes>"
      ]
     },
     "metadata": {
      "needs_background": "light"
     },
     "output_type": "display_data"
    }
   ],
   "source": [
    "_data = np.random.randn(samples, strnum) * 100\n",
    "_data += np.random.randn(samples, strnum) * 66\n",
    "\n",
    "fig1, ax1 = plt.subplots()\n",
    "ax1.set_title('Another Plot')\n",
    "ax1.boxplot(_data);"
   ]
  },
  {
   "cell_type": "code",
   "execution_count": 4,
   "metadata": {},
   "outputs": [
    {
     "name": "stdout",
     "output_type": "stream",
     "text": [
      "/home/papamakarios\r\n"
     ]
    }
   ],
   "source": [
    "! pwd"
   ]
  },
  {
   "cell_type": "code",
   "execution_count": 5,
   "metadata": {},
   "outputs": [
    {
     "name": "stdout",
     "output_type": "stream",
     "text": [
      "boxplot.ipynb  parsl  scratch-midway2\r\n"
     ]
    }
   ],
   "source": [
    "! ls "
   ]
  },
  {
   "cell_type": "code",
   "execution_count": 6,
   "metadata": {},
   "outputs": [
    {
     "name": "stdout",
     "output_type": "stream",
     "text": [
      "gradient_sec.npy  simple_sec.npy  totaltime_sec.npy\r\n"
     ]
    }
   ],
   "source": [
    "! ls scratch-midway2/data1/"
   ]
  },
  {
   "cell_type": "code",
   "execution_count": 7,
   "metadata": {},
   "outputs": [
    {
     "name": "stdout",
     "output_type": "stream",
     "text": [
      "gradient_sec.npy  simple_sec.npy  totaltime_sec.npy\r\n"
     ]
    }
   ],
   "source": [
    "! ls scratch-midway2/data2/"
   ]
  },
  {
   "cell_type": "code",
   "execution_count": 10,
   "metadata": {},
   "outputs": [],
   "source": [
    "app1_data_dir='scratch-midway2/data1'\n",
    "app1_totaltime = np.load(app1_data_dir+\"/totaltime_sec.npy\")\n",
    "app1_gradient = np.load(app1_data_dir+\"/gradient_sec.npy\")"
   ]
  },
  {
   "cell_type": "code",
   "execution_count": 12,
   "metadata": {},
   "outputs": [],
   "source": [
    "data_list = [app1_simple.reshape(20,1), app1_totaltime.reshape(20,1), app1_gradient.reshape(20,1) ]\n",
    "data = np.concatenate([ x for x in data_list ] , axis=1)"
   ]
  },
  {
   "cell_type": "code",
   "execution_count": 30,
   "metadata": {},
   "outputs": [
    {
     "data": {
      "image/png": "[encoded data removed]",
      "text/plain": [
       "<Figure size 432x288 with 1 Axes>"
      ]
     },
     "metadata": {
      "needs_background": "light"
     },
     "output_type": "display_data"
    }
   ],
   "source": [
    "fig1, ax1 = plt.subplots()\n",
    "ax1.set_title('Application 1', fontsize = 14)\n",
    "plt.xlabel('Strategy', fontsize = 11)\n",
    "plt.ylabel('Running time', fontsize = 11)\n",
    "ax1.boxplot(data);\n",
    "fig1.savefig('app1_boxplot.png')"
   ]
  },
  {
   "cell_type": "code",
   "execution_count": 31,
   "metadata": {},
   "outputs": [
    {
     "ename": "NameError",
     "evalue": "name 'fig2' is not defined",
     "output_type": "error",
     "traceback": [
      "\u001b[0;31m---------------------------------------------------------------------------\u001b[0m",
      "\u001b[0;31mNameError\u001b[0m                                 Traceback (most recent call last)",
      "\u001b[0;32m<ipython-input-31-cc3f568251ed>\u001b[0m in \u001b[0;36m<module>\u001b[0;34m\u001b[0m\n\u001b[1;32m     12\u001b[0m \u001b[0mplt\u001b[0m\u001b[0;34m.\u001b[0m\u001b[0mylabel\u001b[0m\u001b[0;34m(\u001b[0m\u001b[0;34m'Running time'\u001b[0m\u001b[0;34m,\u001b[0m \u001b[0mfontsize\u001b[0m \u001b[0;34m=\u001b[0m \u001b[0;36m11\u001b[0m\u001b[0;34m)\u001b[0m\u001b[0;34m\u001b[0m\u001b[0;34m\u001b[0m\u001b[0m\n\u001b[1;32m     13\u001b[0m \u001b[0max1\u001b[0m\u001b[0;34m.\u001b[0m\u001b[0mboxplot\u001b[0m\u001b[0;34m(\u001b[0m\u001b[0mdata\u001b[0m\u001b[0;34m)\u001b[0m\u001b[0;34m;\u001b[0m\u001b[0;34m\u001b[0m\u001b[0;34m\u001b[0m\u001b[0m\n\u001b[0;32m---> 14\u001b[0;31m \u001b[0mfig2\u001b[0m\u001b[0;34m.\u001b[0m\u001b[0msavefig\u001b[0m\u001b[0;34m(\u001b[0m\u001b[0;34m'app2_boxplot.png'\u001b[0m\u001b[0;34m)\u001b[0m\u001b[0;34m\u001b[0m\u001b[0;34m\u001b[0m\u001b[0m\n\u001b[0m",
      "\u001b[0;31mNameError\u001b[0m: name 'fig2' is not defined"
     ]
    },
    {
     "data": {
      "image/png": "[encoded data removed]",
      "text/plain": [
       "<Figure size 432x288 with 1 Axes>"
      ]
     },
     "metadata": {
      "needs_background": "light"
     },
     "output_type": "display_data"
    }
   ],
   "source": [
    "app2_data_dir='scratch-midway2/data2'\n",
    "app2_simple = np.load(app2_data_dir+\"/simple_sec.npy\")\n",
    "app2_totaltime = np.load(app2_data_dir+\"/totaltime_sec.npy\")\n",
    "app2_gradient = np.load(app2_data_dir+\"/gradient_sec.npy\")\n",
    "\n",
    "data_list = [app2_simple.reshape(20,1), app2_totaltime.reshape(20,1), app2_gradient.reshape(20,1) ]\n",
    "data = np.concatenate([ x for x in data_list ] , axis=1)\n",
    "\n",
    "fig1, ax1 = plt.subplots()\n",
    "ax1.set_title('Application 2', fontsize = 14)\n",
    "plt.xlabel('Strategy', fontsize = 11)\n",
    "plt.ylabel('Running time', fontsize = 11)\n",
    "ax1.boxplot(data);\n",
    "fig2.savefig('app2_boxplot.png')"
   ]
  },
  {
   "cell_type": "code",
   "execution_count": null,
   "metadata": {},
   "outputs": [],
   "source": []
  }
 ],
 "metadata": {
  "kernelspec": {
   "display_name": "Python 3",
   "language": "python",
   "name": "python3"
  },
  "language_info": {
   "codemirror_mode": {
    "name": "ipython",
    "version": 3
   },
   "file_extension": ".py",
   "mimetype": "text/x-python",
   "name": "python",
   "nbconvert_exporter": "python",
   "pygments_lexer": "ipython3",
   "version": "3.6.2"
  }
 },
 "nbformat": 4,
 "nbformat_minor": 2
}
